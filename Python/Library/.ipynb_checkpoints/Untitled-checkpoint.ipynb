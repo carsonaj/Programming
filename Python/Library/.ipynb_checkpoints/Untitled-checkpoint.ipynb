{
 "cells": [
  {
   "cell_type": "code",
   "execution_count": 6,
   "metadata": {},
   "outputs": [],
   "source": [
    "import finance.simfin as sf\n",
    "import finance.screener as scr\n",
    "\n",
    "weekly = ['AABA', 'AAL', 'AAOI', 'AAPL', 'ABBV', 'ABC', 'ABT', 'ABX', 'ACAD', 'ACN', 'ADBE', 'ADI', 'ADM', 'ADP', 'ADSK', 'AEO', 'AET', 'AFL', 'AG', 'AGN', 'AGNC', 'AIG', 'AKAM', 'AKS', 'ALGN', 'ALXN', 'AMAT', 'AMBA', 'AMC', 'AMD', 'AMGN', 'AMLP', 'AMRN', 'AMT', 'AMTD', 'AMZN', 'ANDV', 'ANET', 'ANF', 'ANTM', 'AOBC', 'APA', 'APC', 'APO', 'ARNA', 'ATVI', 'AUY', 'AVGO', 'AVP', 'AXP', 'AZN', 'AZO', 'BA', 'BABA', 'BAC', 'BAX', 'BB', 'BBBY', 'BBY', 'BDX', 'BIDU', 'BIIB', 'BK', 'BKNG', 'BLK', 'BMY', 'BP', 'BRK', 'BSX', 'BUD', 'BURL', 'BX', 'C', 'CAH', 'CALM', 'CAT', 'CBI', 'CBOE', 'CBS', 'CC', 'CCJ', 'CCL', 'CELG', 'CF', 'CGC', 'CHK', 'CHTR', 'CI', 'CIEN', 'CL', 'CLF', 'CLR', 'CLX', 'CMCSA', 'CME', 'CMG', 'CMI', 'COF', 'COG', 'COP', 'COST', 'COTY', 'CPB', 'CREE', 'CRM', 'CRON', 'CRSP', 'CRUS', 'CSCO', 'CSIQ', 'CSX', 'CTL', 'CTRP', 'CTSH', 'CVS', 'CVX', 'CYBR', 'CYH', 'CZR', 'DAL', 'DATA', 'DB', 'DBX', 'DDD', 'DDS', 'DE', 'DFS', 'DG', 'DHI', 'DIS', 'DISH', 'DKS', 'DLTR', 'DOV', 'DVN', 'DWDP', 'EA', 'EBAY', 'ECL', 'ED', 'EDIT', 'EMES', 'EMR', 'ENDP', 'EOG', 'EPD', 'ESRX', 'ETE', 'ETFC', 'ETN', 'EW', 'EXAS', 'EXPE', 'F', 'FB', 'FCX', 'FDX', 'FEYE', 'FFIV', 'FIT', 'FIVE', 'FLEX', 'FLR', 'FNSR', 'FOLD', 'FOSL', 'FOXA', 'FSLR', 'GD', 'GE', 'GG', 'GILD', 'GLW', 'GM', 'GME', 'GNW', 'GOGO', 'GOOG', 'GOOGL', 'GOOS', 'GPC', 'GPOR', 'GPRO', 'GPS', 'GRMN', 'GRPN', 'GRUB', 'GS', 'GSK', 'GT', 'GWW', 'HAL', 'HAS', 'HCA', 'HD', 'HES', 'HFC', 'HIG', 'HIMX', 'HL', 'HLF', 'HOG', 'HON', 'HPE', 'HPQ', 'HRL', 'HSBC', 'HSY', 'HUM', 'HUYA', 'IBM', 'ICPT', 'ILMN', 'INFN', 'INTC', 'IONS', 'IP', 'IRBT', 'ISRG', 'ITW', 'JBL', 'JCP', 'JD', 'JNJ', 'JNPR', 'JPM', 'KEY', 'KGC', 'KKR', 'KMI', 'KMB', 'KMX', 'KO', 'KODK', 'KORS', 'KR', 'KSS', 'KSU', 'LB', 'LL', 'LLY', 'LMT', 'LNG', 'LOW', 'LRCX', 'LULU', 'LUV', 'LVS', 'LYB', 'M', 'MA', 'MAR', 'MAT', 'MBI', 'MCD', 'MCK', 'MDLZ', 'MDT', 'MET', 'MGM', 'MMM', 'MNK', 'MNKD', 'MNST', 'MO', 'MOMO', 'MON', 'MOS', 'MPC', 'MRK', 'MRO', 'MRVL', 'MS', 'MSFT', 'MT', 'MU', 'MYL', 'NAV', 'NBR', 'NE', 'NEM', 'NFLX', 'NKE', 'NKTR', 'NLY', 'NOC', 'NOK', 'NOV', 'NOW', 'NRG', 'NSC', 'NTAP', 'NTES', 'NTR', 'NUE', 'NVDA', 'NXPI', 'OCLR', 'OKE', 'OLED', 'OLN', 'OPK', 'ORCL', 'OSTK', 'OXY', 'P', 'PAA', 'PBR', 'PBYI', 'PCG', 'PEP', 'PNC', 'PFE', 'PG', 'PHM', 'PLAY', 'PLCE', 'PLUG', 'PM', 'PPG', 'PRGO', 'PSX', 'PTCT', 'PX', 'PXD', 'PYPL', 'PZZA', 'QCOM', 'RACE', 'RAD', 'RCL', 'RDS', 'REGN', 'RH', 'RHT', 'RICE', 'RIG', 'RIOT', 'RL', 'ROKU', 'RRC', 'RTN', 'S', 'SAGE', 'SBUX', 'SCHW', 'SEAS', 'SDRL', 'SHAK', 'SHOP', 'SHPG', 'SHW', 'SIG', 'SIRI', 'SKX', 'SLB', 'SNAP', 'SNE', 'SODA', 'SPGI', 'SPLK', 'SPOT', 'SPWR', 'SQ', 'SRPT', 'SSYS', 'STMP', 'STX', 'STZ', 'SU', 'SVU', 'SWK', 'SWKS', 'SWN', 'SYF', 'SYMC', 'SYNA', 'SYY', 'T', 'TAP', 'TECK', 'TEVA', 'TGT', 'THC', 'TIF', 'TLRY', 'TMUS', 'TOL', 'TPR', 'TRN', 'TROW', 'TSCO', 'TSLA', 'TSN', 'TSRO', 'TTD', 'TTM', 'TTWO', 'TWLO', 'TWTR', 'TXN', 'UA', 'UAA', 'UAL', 'ULTA', 'UNH', 'UNP', 'UPS', 'URBN', 'URI', 'USB', 'UTX', 'V', 'VALE', 'VFC', 'VIAB', 'VIPS', 'VLO', 'VMW', 'VNET', 'VOD', 'VRTX', 'VRX', 'VZ', 'W', 'WB', 'WBA', 'WDAY', 'WDC', 'WFC', 'WFT', 'WHR', 'WLL', 'WMB', 'WMT', 'WPM', 'WTW', 'WY', 'WYNN', 'X', 'XLNX', 'XNET', 'XOM', 'YELP', 'YPF', 'YUM', 'YY', 'Z', 'ZNGA', 'ZTS']\n"
   ]
  },
  {
   "cell_type": "code",
   "execution_count": 7,
   "metadata": {},
   "outputs": [
    {
     "data": {
      "text/plain": [
       "450"
      ]
     },
     "execution_count": 7,
     "metadata": {},
     "output_type": "execute_result"
    }
   ],
   "source": [
    "len(weekly)"
   ]
  },
  {
   "cell_type": "code",
   "execution_count": 17,
   "metadata": {},
   "outputs": [],
   "source": [
    "screener = scr.Screener(weekly, '2018-05-01', '2018-10-8')"
   ]
  },
  {
   "cell_type": "code",
   "execution_count": 18,
   "metadata": {},
   "outputs": [
    {
     "data": {
      "text/plain": [
       "176"
      ]
     },
     "execution_count": 18,
     "metadata": {},
     "output_type": "execute_result"
    }
   ],
   "source": [
    "len(screener.tickers)"
   ]
  },
  {
   "cell_type": "code",
   "execution_count": 19,
   "metadata": {
    "scrolled": true
   },
   "outputs": [
    {
     "data": {
      "text/plain": [
       "111"
      ]
     },
     "execution_count": 19,
     "metadata": {},
     "output_type": "execute_result"
    }
   ],
   "source": [
    "screener.series_length"
   ]
  },
  {
   "cell_type": "code",
   "execution_count": null,
   "metadata": {},
   "outputs": [],
   "source": []
  },
  {
   "cell_type": "code",
   "execution_count": null,
   "metadata": {},
   "outputs": [],
   "source": []
  },
  {
   "cell_type": "code",
   "execution_count": 20,
   "metadata": {},
   "outputs": [
    {
     "name": "stderr",
     "output_type": "stream",
     "text": [
      "/home/carson/.local/lib/python3.6/site-packages/statsmodels/regression/linear_model.py:846: RuntimeWarning: divide by zero encountered in log\n",
      "  llf = -nobs2*np.log(2*np.pi) - nobs2*np.log(ssr / nobs) - nobs2\n",
      "/home/carson/.local/lib/python3.6/site-packages/statsmodels/base/model.py:1100: RuntimeWarning: invalid value encountered in true_divide\n",
      "  return self.params / self.bse\n"
     ]
    },
    {
     "ename": "ValueError",
     "evalue": "maxlag should be < nobs",
     "output_type": "error",
     "traceback": [
      "\u001b[0;31m---------------------------------------------------------------------------\u001b[0m",
      "\u001b[0;31mValueError\u001b[0m                                Traceback (most recent call last)",
      "\u001b[0;32m<ipython-input-20-7c274f092cdb>\u001b[0m in \u001b[0;36m<module>\u001b[0;34m()\u001b[0m\n\u001b[0;32m----> 1\u001b[0;31m \u001b[0mtrend_dict\u001b[0m \u001b[0;34m=\u001b[0m \u001b[0mscreener\u001b[0m\u001b[0;34m.\u001b[0m\u001b[0mtrend_dict\u001b[0m\u001b[0;34m(\u001b[0m\u001b[0;34m)\u001b[0m\u001b[0;34m\u001b[0m\u001b[0m\n\u001b[0m",
      "\u001b[0;32m~/Desktop/Archive/Computing/Projects/Python/Library/finance/screener.py\u001b[0m in \u001b[0;36mtrend_dict\u001b[0;34m(self)\u001b[0m\n\u001b[1;32m    117\u001b[0m         \u001b[0;32mfor\u001b[0m \u001b[0mticker\u001b[0m \u001b[0;32min\u001b[0m \u001b[0mself\u001b[0m\u001b[0;34m.\u001b[0m\u001b[0mtickers\u001b[0m\u001b[0;34m:\u001b[0m\u001b[0;34m\u001b[0m\u001b[0m\n\u001b[1;32m    118\u001b[0m             \u001b[0mseries\u001b[0m \u001b[0;34m=\u001b[0m \u001b[0mself\u001b[0m\u001b[0;34m.\u001b[0m\u001b[0mseries_dict\u001b[0m\u001b[0;34m[\u001b[0m\u001b[0mticker\u001b[0m\u001b[0;34m]\u001b[0m\u001b[0;34m\u001b[0m\u001b[0m\n\u001b[0;32m--> 119\u001b[0;31m             \u001b[0mtrend\u001b[0m \u001b[0;34m=\u001b[0m \u001b[0mts\u001b[0m\u001b[0;34m.\u001b[0m\u001b[0mtrend\u001b[0m\u001b[0;34m(\u001b[0m\u001b[0mseries\u001b[0m\u001b[0;34m)\u001b[0m\u001b[0;34m\u001b[0m\u001b[0m\n\u001b[0m\u001b[1;32m    120\u001b[0m             \u001b[0;32mif\u001b[0m \u001b[0mtrend\u001b[0m \u001b[0;32mis\u001b[0m \u001b[0;32mnot\u001b[0m \u001b[0;32mNone\u001b[0m\u001b[0;34m:\u001b[0m\u001b[0;34m\u001b[0m\u001b[0m\n\u001b[1;32m    121\u001b[0m                 \u001b[0mtrend_dict\u001b[0m\u001b[0;34m[\u001b[0m\u001b[0mticker\u001b[0m\u001b[0;34m]\u001b[0m \u001b[0;34m=\u001b[0m \u001b[0mtrend\u001b[0m\u001b[0;34m\u001b[0m\u001b[0m\n",
      "\u001b[0;32m~/Desktop/Archive/Computing/Projects/Python/Library/statistics/time_series.py\u001b[0m in \u001b[0;36mtrend\u001b[0;34m(series)\u001b[0m\n\u001b[1;32m     77\u001b[0m     \u001b[0;32melse\u001b[0m\u001b[0;34m:\u001b[0m\u001b[0;34m\u001b[0m\u001b[0m\n\u001b[1;32m     78\u001b[0m         \u001b[0mfirst_diff\u001b[0m \u001b[0;34m=\u001b[0m \u001b[0mdiff\u001b[0m\u001b[0;34m(\u001b[0m\u001b[0mseries\u001b[0m\u001b[0;34m)\u001b[0m\u001b[0;34m\u001b[0m\u001b[0m\n\u001b[0;32m---> 79\u001b[0;31m         \u001b[0;32mif\u001b[0m \u001b[0mis_stationary\u001b[0m\u001b[0;34m(\u001b[0m\u001b[0mfirst_diff\u001b[0m\u001b[0;34m)\u001b[0m \u001b[0;34m==\u001b[0m \u001b[0;32mFalse\u001b[0m\u001b[0;34m:\u001b[0m\u001b[0;34m\u001b[0m\u001b[0m\n\u001b[0m\u001b[1;32m     80\u001b[0m             \u001b[0;32mreturn\u001b[0m \u001b[0;32mNone\u001b[0m\u001b[0;34m\u001b[0m\u001b[0m\n\u001b[1;32m     81\u001b[0m         \u001b[0;32melse\u001b[0m\u001b[0;34m:\u001b[0m\u001b[0;34m\u001b[0m\u001b[0m\n",
      "\u001b[0;32m~/Desktop/Archive/Computing/Projects/Python/Library/statistics/time_series.py\u001b[0m in \u001b[0;36mis_stationary\u001b[0;34m(series)\u001b[0m\n\u001b[1;32m     13\u001b[0m \u001b[0;34m\u001b[0m\u001b[0m\n\u001b[1;32m     14\u001b[0m \u001b[0;32mdef\u001b[0m \u001b[0mis_stationary\u001b[0m\u001b[0;34m(\u001b[0m\u001b[0mseries\u001b[0m\u001b[0;34m)\u001b[0m\u001b[0;34m:\u001b[0m\u001b[0;34m\u001b[0m\u001b[0m\n\u001b[0;32m---> 15\u001b[0;31m     \u001b[0;32mif\u001b[0m \u001b[0madfuller\u001b[0m\u001b[0;34m(\u001b[0m\u001b[0mseries\u001b[0m\u001b[0;34m.\u001b[0m\u001b[0mvalues\u001b[0m\u001b[0;34m,\u001b[0m \u001b[0mregression\u001b[0m\u001b[0;34m=\u001b[0m\u001b[0;34m'nc'\u001b[0m\u001b[0;34m)\u001b[0m\u001b[0;34m[\u001b[0m\u001b[0;36m1\u001b[0m\u001b[0;34m]\u001b[0m \u001b[0;34m<=\u001b[0m \u001b[0;36m.0000001\u001b[0m\u001b[0;34m:\u001b[0m\u001b[0;34m\u001b[0m\u001b[0m\n\u001b[0m\u001b[1;32m     16\u001b[0m         \u001b[0;32mreturn\u001b[0m \u001b[0;32mTrue\u001b[0m\u001b[0;34m\u001b[0m\u001b[0m\n\u001b[1;32m     17\u001b[0m     \u001b[0;32melse\u001b[0m\u001b[0;34m:\u001b[0m\u001b[0;34m\u001b[0m\u001b[0m\n",
      "\u001b[0;32m~/.local/lib/python3.6/site-packages/statsmodels/tsa/stattools.py\u001b[0m in \u001b[0;36madfuller\u001b[0;34m(x, maxlag, regression, autolag, store, regresults)\u001b[0m\n\u001b[1;32m    219\u001b[0m \u001b[0;34m\u001b[0m\u001b[0m\n\u001b[1;32m    220\u001b[0m     \u001b[0mxdiff\u001b[0m \u001b[0;34m=\u001b[0m \u001b[0mnp\u001b[0m\u001b[0;34m.\u001b[0m\u001b[0mdiff\u001b[0m\u001b[0;34m(\u001b[0m\u001b[0mx\u001b[0m\u001b[0;34m)\u001b[0m\u001b[0;34m\u001b[0m\u001b[0m\n\u001b[0;32m--> 221\u001b[0;31m     \u001b[0mxdall\u001b[0m \u001b[0;34m=\u001b[0m \u001b[0mlagmat\u001b[0m\u001b[0;34m(\u001b[0m\u001b[0mxdiff\u001b[0m\u001b[0;34m[\u001b[0m\u001b[0;34m:\u001b[0m\u001b[0;34m,\u001b[0m \u001b[0;32mNone\u001b[0m\u001b[0;34m]\u001b[0m\u001b[0;34m,\u001b[0m \u001b[0mmaxlag\u001b[0m\u001b[0;34m,\u001b[0m \u001b[0mtrim\u001b[0m\u001b[0;34m=\u001b[0m\u001b[0;34m'both'\u001b[0m\u001b[0;34m,\u001b[0m \u001b[0moriginal\u001b[0m\u001b[0;34m=\u001b[0m\u001b[0;34m'in'\u001b[0m\u001b[0;34m)\u001b[0m\u001b[0;34m\u001b[0m\u001b[0m\n\u001b[0m\u001b[1;32m    222\u001b[0m     \u001b[0mnobs\u001b[0m \u001b[0;34m=\u001b[0m \u001b[0mxdall\u001b[0m\u001b[0;34m.\u001b[0m\u001b[0mshape\u001b[0m\u001b[0;34m[\u001b[0m\u001b[0;36m0\u001b[0m\u001b[0;34m]\u001b[0m  \u001b[0;31m# pylint: disable=E1103\u001b[0m\u001b[0;34m\u001b[0m\u001b[0m\n\u001b[1;32m    223\u001b[0m \u001b[0;34m\u001b[0m\u001b[0m\n",
      "\u001b[0;32m~/.local/lib/python3.6/site-packages/statsmodels/tsa/tsatools.py\u001b[0m in \u001b[0;36mlagmat\u001b[0;34m(x, maxlag, trim, original, use_pandas)\u001b[0m\n\u001b[1;32m    399\u001b[0m         \u001b[0mdropidx\u001b[0m \u001b[0;34m=\u001b[0m \u001b[0mnvar\u001b[0m\u001b[0;34m\u001b[0m\u001b[0m\n\u001b[1;32m    400\u001b[0m     \u001b[0;32mif\u001b[0m \u001b[0mmaxlag\u001b[0m \u001b[0;34m>=\u001b[0m \u001b[0mnobs\u001b[0m\u001b[0;34m:\u001b[0m\u001b[0;34m\u001b[0m\u001b[0m\n\u001b[0;32m--> 401\u001b[0;31m         \u001b[0;32mraise\u001b[0m \u001b[0mValueError\u001b[0m\u001b[0;34m(\u001b[0m\u001b[0;34m\"maxlag should be < nobs\"\u001b[0m\u001b[0;34m)\u001b[0m\u001b[0;34m\u001b[0m\u001b[0m\n\u001b[0m\u001b[1;32m    402\u001b[0m     \u001b[0mlm\u001b[0m \u001b[0;34m=\u001b[0m \u001b[0mnp\u001b[0m\u001b[0;34m.\u001b[0m\u001b[0mzeros\u001b[0m\u001b[0;34m(\u001b[0m\u001b[0;34m(\u001b[0m\u001b[0mnobs\u001b[0m \u001b[0;34m+\u001b[0m \u001b[0mmaxlag\u001b[0m\u001b[0;34m,\u001b[0m \u001b[0mnvar\u001b[0m \u001b[0;34m*\u001b[0m \u001b[0;34m(\u001b[0m\u001b[0mmaxlag\u001b[0m \u001b[0;34m+\u001b[0m \u001b[0;36m1\u001b[0m\u001b[0;34m)\u001b[0m\u001b[0;34m)\u001b[0m\u001b[0;34m)\u001b[0m\u001b[0;34m\u001b[0m\u001b[0m\n\u001b[1;32m    403\u001b[0m     \u001b[0;32mfor\u001b[0m \u001b[0mk\u001b[0m \u001b[0;32min\u001b[0m \u001b[0mrange\u001b[0m\u001b[0;34m(\u001b[0m\u001b[0;36m0\u001b[0m\u001b[0;34m,\u001b[0m \u001b[0mint\u001b[0m\u001b[0;34m(\u001b[0m\u001b[0mmaxlag\u001b[0m \u001b[0;34m+\u001b[0m \u001b[0;36m1\u001b[0m\u001b[0;34m)\u001b[0m\u001b[0;34m)\u001b[0m\u001b[0;34m:\u001b[0m\u001b[0;34m\u001b[0m\u001b[0m\n",
      "\u001b[0;31mValueError\u001b[0m: maxlag should be < nobs"
     ]
    }
   ],
   "source": [
    "trend_dict = screener.trend_dict()"
   ]
  },
  {
   "cell_type": "code",
   "execution_count": null,
   "metadata": {},
   "outputs": [],
   "source": []
  }
 ],
 "metadata": {
  "kernelspec": {
   "display_name": "Python 3",
   "language": "python",
   "name": "python3"
  },
  "language_info": {
   "codemirror_mode": {
    "name": "ipython",
    "version": 3
   },
   "file_extension": ".py",
   "mimetype": "text/x-python",
   "name": "python",
   "nbconvert_exporter": "python",
   "pygments_lexer": "ipython3",
   "version": "3.6.6"
  }
 },
 "nbformat": 4,
 "nbformat_minor": 2
}
