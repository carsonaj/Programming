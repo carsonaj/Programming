{
 "cells": [
  {
   "cell_type": "code",
   "execution_count": 1,
   "metadata": {},
   "outputs": [],
   "source": [
    "weekly = ['AABA', 'AAL', 'AAOI', 'AAPL', 'ABBV', 'ABC', 'ABT', 'ABX', 'ACAD', 'ACN', 'ADBE', 'ADI', 'ADM', 'ADP', 'ADSK', 'AEO', 'AET', 'AFL', 'AG', 'AGN', 'AGNC', 'AIG', 'AKAM', 'AKS', 'ALGN', 'ALXN', 'AMAT', 'AMBA', 'AMC', 'AMD', 'AMGN', 'AMLP', 'AMRN', 'AMT', 'AMTD', 'AMZN', 'ANDV', 'ANET', 'ANF', 'ANTM', 'AOBC', 'APA', 'APC', 'APO', 'ARNA', 'ATVI', 'AUY', 'AVGO', 'AVP', 'AXP', 'AZN', 'AZO', 'BA', 'BABA', 'BAC', 'BAX', 'BB', 'BBBY', 'BBY', 'BDX', 'BIDU', 'BIIB', 'BK', 'BKNG', 'BLK', 'BMY', 'BP', 'BRK', 'BSX', 'BUD', 'BURL', 'BX', 'C', 'CAH', 'CALM', 'CAT', 'CBI', 'CBOE', 'CBS', 'CC', 'CCJ', 'CCL', 'CELG', 'CF', 'CGC', 'CHK', 'CHTR', 'CI', 'CIEN', 'CL', 'CLF', 'CLR', 'CLX', 'CMCSA', 'CME', 'CMG', 'CMI', 'COF', 'COG', 'COP', 'COST', 'COTY', 'CPB', 'CREE', 'CRM', 'CRON', 'CRSP', 'CRUS', 'CSCO', 'CSIQ', 'CSX', 'CTL', 'CTRP', 'CTSH', 'CVS', 'CVX', 'CYBR', 'CYH', 'CZR', 'DAL', 'DATA', 'DB', 'DBX', 'DDD', 'DDS', 'DE', 'DFS', 'DG', 'DHI', 'DIS', 'DISH', 'DKS', 'DLTR', 'DOV', 'DVN', 'DWDP', 'EA', 'EBAY', 'ECL', 'ED', 'EDIT', 'EMES', 'EMR', 'ENDP', 'EOG', 'EPD', 'ESRX', 'ETE', 'ETFC', 'ETN', 'EW', 'EXAS', 'EXPE', 'F', 'FB', 'FCX', 'FDX', 'FEYE', 'FFIV', 'FIT', 'FIVE', 'FLEX', 'FLR', 'FNSR', 'FOLD', 'FOSL', 'FOXA', 'FSLR', 'GD', 'GE', 'GG', 'GILD', 'GLW', 'GM', 'GME', 'GNW', 'GOGO', 'GOOG', 'GOOGL', 'GOOS', 'GPC', 'GPOR', 'GPRO', 'GPS', 'GRMN', 'GRPN', 'GRUB', 'GS', 'GSK', 'GT', 'GWW', 'HAL', 'HAS', 'HCA', 'HD', 'HES', 'HFC', 'HIG', 'HIMX', 'HL', 'HLF', 'HOG', 'HON', 'HPE', 'HPQ', 'HRL', 'HSBC', 'HSY', 'HUM', 'HUYA', 'IBM', 'ICPT', 'ILMN', 'INFN', 'INTC', 'IONS', 'IP', 'IRBT', 'ISRG', 'ITW', 'JBL', 'JCP', 'JD', 'JNJ', 'JNPR', 'JPM', 'KEY', 'KGC', 'KKR', 'KMI', 'KMB', 'KMX', 'KO', 'KODK', 'KORS', 'KR', 'KSS', 'KSU', 'LB', 'LL', 'LLY', 'LMT', 'LNG', 'LOW', 'LRCX', 'LULU', 'LUV', 'LVS', 'LYB', 'M', 'MA', 'MAR', 'MAT', 'MBI', 'MCD', 'MCK', 'MDLZ', 'MDT', 'MET', 'MGM', 'MMM', 'MNK', 'MNKD', 'MNST', 'MO', 'MOMO', 'MON', 'MOS', 'MPC', 'MRK', 'MRO', 'MRVL', 'MS', 'MSFT', 'MT', 'MU', 'MYL', 'NAV', 'NBR', 'NE', 'NEM', 'NFLX', 'NKE', 'NKTR', 'NLY', 'NOC', 'NOK', 'NOV', 'NOW', 'NRG', 'NSC', 'NTAP', 'NTES', 'NTR', 'NUE', 'NVDA', 'NXPI', 'OCLR', 'OKE', 'OLED', 'OLN', 'OPK', 'ORCL', 'OSTK', 'OXY', 'P', 'PAA', 'PBR', 'PBYI', 'PCG', 'PEP', 'PNC', 'PFE', 'PG', 'PHM', 'PLAY', 'PLCE', 'PLUG', 'PM', 'PPG', 'PRGO', 'PSX', 'PTCT', 'PX', 'PXD', 'PYPL', 'PZZA', 'QCOM', 'RACE', 'RAD', 'RCL', 'RDS', 'REGN', 'RH', 'RHT', 'RICE', 'RIG', 'RIOT', 'RL', 'ROKU', 'RRC', 'RTN', 'S', 'SAGE', 'SBUX', 'SCHW', 'SEAS', 'SDRL', 'SHAK', 'SHOP', 'SHPG', 'SHW', 'SIG', 'SIRI', 'SKX', 'SLB', 'SNAP', 'SNE', 'SODA', 'SPGI', 'SPLK', 'SPOT', 'SPWR', 'SQ', 'SRPT', 'SSYS', 'STMP', 'STX', 'STZ', 'SU', 'SVU', 'SWK', 'SWKS', 'SWN', 'SYF', 'SYMC', 'SYNA', 'SYY', 'T', 'TAP', 'TECK', 'TEVA', 'TGT', 'THC', 'TIF', 'TLRY', 'TMUS', 'TOL', 'TPR', 'TRN', 'TROW', 'TSCO', 'TSLA', 'TSN', 'TSRO', 'TTD', 'TTM', 'TTWO', 'TWLO', 'TWTR', 'TXN', 'UA', 'UAA', 'UAL', 'ULTA', 'UNH', 'UNP', 'UPS', 'URBN', 'URI', 'USB', 'UTX', 'V', 'VALE', 'VFC', 'VIAB', 'VIPS', 'VLO', 'VMW', 'VNET', 'VOD', 'VRTX', 'VRX', 'VZ', 'W', 'WB', 'WBA', 'WDAY', 'WDC', 'WFC', 'WFT', 'WHR', 'WLL', 'WMB', 'WMT', 'WPM', 'WTW', 'WY', 'WYNN', 'X', 'XLNX', 'XNET', 'XOM', 'YELP', 'YPF', 'YUM', 'YY', 'Z', 'ZNGA', 'ZTS']\n"
   ]
  },
  {
   "cell_type": "code",
   "execution_count": 2,
   "metadata": {},
   "outputs": [
    {
     "ename": "ModuleNotFoundError",
     "evalue": "No module named 'finance'",
     "output_type": "error",
     "traceback": [
      "\u001b[0;31m---------------------------------------------------------------------------\u001b[0m",
      "\u001b[0;31mModuleNotFoundError\u001b[0m                       Traceback (most recent call last)",
      "\u001b[0;32m<ipython-input-2-1de7c00424a7>\u001b[0m in \u001b[0;36m<module>\u001b[0;34m()\u001b[0m\n\u001b[0;32m----> 1\u001b[0;31m \u001b[0;32mimport\u001b[0m \u001b[0mfinance\u001b[0m\u001b[0;34m.\u001b[0m\u001b[0msimfin\u001b[0m \u001b[0;32mas\u001b[0m \u001b[0msf\u001b[0m\u001b[0;34m\u001b[0m\u001b[0m\n\u001b[0m\u001b[1;32m      2\u001b[0m \u001b[0;32mimport\u001b[0m \u001b[0mfinance\u001b[0m\u001b[0;34m.\u001b[0m\u001b[0mscreener\u001b[0m \u001b[0;32mas\u001b[0m \u001b[0mscr\u001b[0m\u001b[0;34m\u001b[0m\u001b[0m\n",
      "\u001b[0;31mModuleNotFoundError\u001b[0m: No module named 'finance'"
     ]
    }
   ],
   "source": [
    "import finance.simfin as sf\n",
    "import finance.screener as scr"
   ]
  },
  {
   "cell_type": "code",
   "execution_count": null,
   "metadata": {},
   "outputs": [],
   "source": []
  }
 ],
 "metadata": {
  "kernelspec": {
   "display_name": "Python 3",
   "language": "python",
   "name": "python3"
  },
  "language_info": {
   "codemirror_mode": {
    "name": "ipython",
    "version": 3
   },
   "file_extension": ".py",
   "mimetype": "text/x-python",
   "name": "python",
   "nbconvert_exporter": "python",
   "pygments_lexer": "ipython3",
   "version": "3.6.6"
  }
 },
 "nbformat": 4,
 "nbformat_minor": 2
}
